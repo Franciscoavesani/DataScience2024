{
 "cells": [
  {
   "cell_type": "markdown",
   "id": "9de78097-f2b3-4d42-af22-54098be430b9",
   "metadata": {},
   "source": [
    "Dados de qualidade do ar:\n",
    "https://archive.ics.uci.edu/dataset/360/air+quality"
   ]
  },
  {
   "cell_type": "code",
   "execution_count": 1,
   "id": "9b5444a2-d69e-432f-b9ba-ec4cd58cdfa5",
   "metadata": {},
   "outputs": [
    {
     "name": "stdout",
     "output_type": "stream",
     "text": [
      "        Date      Time  CO(GT)  PT08.S1(CO)  NMHC(GT)  C6H6(GT)  \\\n",
      "0  3/10/2004  18:00:00     2.6         1360       150      11.9   \n",
      "1  3/10/2004  19:00:00     2.0         1292       112       9.4   \n",
      "2  3/10/2004  20:00:00     2.2         1402        88       9.0   \n",
      "3  3/10/2004  21:00:00     2.2         1376        80       9.2   \n",
      "4  3/10/2004  22:00:00     1.6         1272        51       6.5   \n",
      "5  3/10/2004  23:00:00     1.2         1197        38       4.7   \n",
      "6  3/11/2004   0:00:00     1.2         1185        31       3.6   \n",
      "7  3/11/2004   1:00:00     1.0         1136        31       3.3   \n",
      "8  3/11/2004   2:00:00     0.9         1094        24       2.3   \n",
      "9  3/11/2004   3:00:00     0.6         1010        19       1.7   \n",
      "\n",
      "   PT08.S2(NMHC)  NOx(GT)  PT08.S3(NOx)  NO2(GT)  PT08.S4(NO2)  PT08.S5(O3)  \\\n",
      "0           1046      166          1056      113          1692         1268   \n",
      "1            955      103          1174       92          1559          972   \n",
      "2            939      131          1140      114          1555         1074   \n",
      "3            948      172          1092      122          1584         1203   \n",
      "4            836      131          1205      116          1490         1110   \n",
      "5            750       89          1337       96          1393          949   \n",
      "6            690       62          1462       77          1333          733   \n",
      "7            672       62          1453       76          1333          730   \n",
      "8            609       45          1579       60          1276          620   \n",
      "9            561     -200          1705     -200          1235          501   \n",
      "\n",
      "      T    RH      AH  \n",
      "0  13.6  48.9  0.7578  \n",
      "1  13.3  47.7  0.7255  \n",
      "2  11.9  54.0  0.7502  \n",
      "3  11.0  60.0  0.7867  \n",
      "4  11.2  59.6  0.7888  \n",
      "5  11.2  59.2  0.7848  \n",
      "6  11.3  56.8  0.7603  \n",
      "7  10.7  60.0  0.7702  \n",
      "8  10.7  59.7  0.7648  \n",
      "9  10.3  60.2  0.7517  \n"
     ]
    }
   ],
   "source": [
    "from ucimlrepo import fetch_ucirepo \n",
    "import pandas as pd\n",
    "  \n",
    "# fetch dataset \n",
    "air_quality = fetch_ucirepo(id=360) \n",
    "  \n",
    "# data (as pandas dataframes) \n",
    "df = air_quality.data.features\n",
    "print(df.head(10))"
   ]
  },
  {
   "cell_type": "markdown",
   "id": "e58993ca-775b-4661-8211-6a253b4da118",
   "metadata": {},
   "source": [
    "É possível verificar que existem diversos dados negativos que não fazem sentido, visto que não existem valores de concentração negativos. Desta forma removeu-se todas as linhas que possuem valores negativos"
   ]
  },
  {
   "cell_type": "code",
   "execution_count": 2,
   "id": "d43bb0f6-265f-4b0c-bd03-69c5e23605f0",
   "metadata": {},
   "outputs": [
    {
     "name": "stdout",
     "output_type": "stream",
     "text": [
      "         Date      Time  CO(GT)  PT08.S1(CO)  NMHC(GT)  C6H6(GT)  \\\n",
      "0   3/10/2004  18:00:00     2.6       1360.0     150.0      11.9   \n",
      "1   3/10/2004  19:00:00     2.0       1292.0     112.0       9.4   \n",
      "2   3/10/2004  20:00:00     2.2       1402.0      88.0       9.0   \n",
      "3   3/10/2004  21:00:00     2.2       1376.0      80.0       9.2   \n",
      "4   3/10/2004  22:00:00     1.6       1272.0      51.0       6.5   \n",
      "5   3/10/2004  23:00:00     1.2       1197.0      38.0       4.7   \n",
      "6   3/11/2004   0:00:00     1.2       1185.0      31.0       3.6   \n",
      "7   3/11/2004   1:00:00     1.0       1136.0      31.0       3.3   \n",
      "8   3/11/2004   2:00:00     0.9       1094.0      24.0       2.3   \n",
      "11  3/11/2004   5:00:00     0.7       1066.0       8.0       1.1   \n",
      "\n",
      "    PT08.S2(NMHC)  NOx(GT)  PT08.S3(NOx)  NO2(GT)  PT08.S4(NO2)  PT08.S5(O3)  \\\n",
      "0          1046.0    166.0        1056.0    113.0        1692.0       1268.0   \n",
      "1           955.0    103.0        1174.0     92.0        1559.0        972.0   \n",
      "2           939.0    131.0        1140.0    114.0        1555.0       1074.0   \n",
      "3           948.0    172.0        1092.0    122.0        1584.0       1203.0   \n",
      "4           836.0    131.0        1205.0    116.0        1490.0       1110.0   \n",
      "5           750.0     89.0        1337.0     96.0        1393.0        949.0   \n",
      "6           690.0     62.0        1462.0     77.0        1333.0        733.0   \n",
      "7           672.0     62.0        1453.0     76.0        1333.0        730.0   \n",
      "8           609.0     45.0        1579.0     60.0        1276.0        620.0   \n",
      "11          512.0     16.0        1918.0     28.0        1182.0        422.0   \n",
      "\n",
      "       T    RH      AH  \n",
      "0   13.6  48.9  0.7578  \n",
      "1   13.3  47.7  0.7255  \n",
      "2   11.9  54.0  0.7502  \n",
      "3   11.0  60.0  0.7867  \n",
      "4   11.2  59.6  0.7888  \n",
      "5   11.2  59.2  0.7848  \n",
      "6   11.3  56.8  0.7603  \n",
      "7   10.7  60.0  0.7702  \n",
      "8   10.7  59.7  0.7648  \n",
      "11  11.0  56.2  0.7366  \n"
     ]
    }
   ],
   "source": [
    "df_nan=df\n",
    "cols = df_nan.columns[2:15]\n",
    "df_nan[cols] = df_nan[cols].mask(df[cols] == -200)\n",
    "df_remove = df_nan.dropna()\n",
    "print(df_remove.head(10))"
   ]
  },
  {
   "cell_type": "markdown",
   "id": "25ef7264-a65f-4972-ac75-8a45b662b55a",
   "metadata": {},
   "source": [
    "Verificou-se quantas linhas foram removidas durante o processo"
   ]
  },
  {
   "cell_type": "code",
   "execution_count": 3,
   "id": "2704df5e-194f-47ed-ba42-1c97d91de3e3",
   "metadata": {},
   "outputs": [
    {
     "name": "stdout",
     "output_type": "stream",
     "text": [
      "Número de linhas antes de remover os números negativos: 9357\n",
      "Número de linhas depois de remover os números negativos: 827\n"
     ]
    }
   ],
   "source": [
    "print(\"Número de linhas antes de remover os números negativos:\", df.shape[0])\n",
    "print(\"Número de linhas depois de remover os números negativos:\", df_remove.shape[0])"
   ]
  },
  {
   "cell_type": "markdown",
   "id": "27c8cae5-3c2d-42d3-a360-2250401c47fe",
   "metadata": {},
   "source": [
    "Como o número de linhas removidas representa uma perda maior de 90% do banco de dados, não é possível tratar os dados desta forma. Portanto subsituiu-se os valores negativos pela média dos valores de cada coluna "
   ]
  },
  {
   "cell_type": "code",
   "execution_count": 4,
   "id": "552460a5-a1dc-4558-b185-183a2d672fa7",
   "metadata": {},
   "outputs": [
    {
     "name": "stdout",
     "output_type": "stream",
     "text": [
      "[[   2.6        1360.          150.         ... 1268.\n",
      "    13.6          48.9       ]\n",
      " [   2.         1292.          112.         ...  972.\n",
      "    13.3          47.7       ]\n",
      " [   2.2        1402.           88.         ... 1074.\n",
      "    11.9          54.        ]\n",
      " ...\n",
      " [   2.4        1142.          218.81181619 ... 1092.\n",
      "    26.9          18.3       ]\n",
      " [   2.1        1003.          218.81181619 ...  770.\n",
      "    28.3          13.5       ]\n",
      " [   2.2        1071.          218.81181619 ...  816.\n",
      "    28.5          13.1       ]]\n"
     ]
    }
   ],
   "source": [
    "import numpy as np\n",
    "# convertemos para o formato Numpy e ignoramos a última coluna (classe)\n",
    "X = np.array(df_nan[df_nan.columns[2:df_nan.shape[1]-1]], dtype = float) \n",
    "# calculamos a média de cada atributo e armazenamos em um vetor\n",
    "# Usamos a função nanmean que calcula a média ignorando os Nan\n",
    "averages = np.nanmean(X, axis = 0)\n",
    "for i in np.arange(0, X.shape[0]):\n",
    "    for j in np.arange(0, X.shape[1]):\n",
    "        if(np.isnan(X[i,j]) == True): # verificar se é uma entrada com Nan\n",
    "            X[i,j] = averages[j] # insere a média\n",
    "print(X)"
   ]
  },
  {
   "cell_type": "markdown",
   "id": "fadee429-e1ac-43af-8588-782b1db25949",
   "metadata": {},
   "source": [
    "plotar os gráficos - transformar eles em timestamp para facilitar\n",
    "np.linspace(start,end,quantidade) - devolve um vetor em array para numerar de forma fácil\n",
    "verificar onde tem nan e interpolar entre o time antes e depois para substituir um valor mais plausível"
   ]
  }
 ],
 "metadata": {
  "kernelspec": {
   "display_name": "Estudos",
   "language": "python",
   "name": "estudos"
  },
  "language_info": {
   "codemirror_mode": {
    "name": "ipython",
    "version": 3
   },
   "file_extension": ".py",
   "mimetype": "text/x-python",
   "name": "python",
   "nbconvert_exporter": "python",
   "pygments_lexer": "ipython3",
   "version": "3.12.2"
  }
 },
 "nbformat": 4,
 "nbformat_minor": 5
}
