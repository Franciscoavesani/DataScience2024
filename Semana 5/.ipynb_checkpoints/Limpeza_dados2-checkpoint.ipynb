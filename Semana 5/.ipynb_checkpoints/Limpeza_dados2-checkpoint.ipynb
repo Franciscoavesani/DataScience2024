{
 "cells": [
  {
   "cell_type": "markdown",
   "id": "edaba55c-7f91-439f-a6fd-0a55440d7da1",
   "metadata": {},
   "source": [
    "Dados de detecção de ozônio:\n",
    "https://archive.ics.uci.edu/dataset/172/ozone+level+detection"
   ]
  },
  {
   "cell_type": "code",
   "execution_count": null,
   "id": "552460a5-a1dc-4558-b185-183a2d672fa7",
   "metadata": {},
   "outputs": [],
   "source": []
  },
  {
   "cell_type": "code",
   "execution_count": 4,
   "id": "2a089b34-0ad6-4ed3-b170-e59c5c592e28",
   "metadata": {},
   "outputs": [
    {
     "name": "stdout",
     "output_type": "stream",
     "text": [
      "{'uci_id': 172, 'name': 'Ozone Level Detection', 'repository_url': 'https://archive.ics.uci.edu/dataset/172/ozone+level+detection', 'data_url': 'https://archive.ics.uci.edu/static/public/172/data.csv', 'abstract': 'Two ground ozone level data sets are included in this collection. One is the eight hour peak set (eighthr.data), the other is the one hour peak set (onehr.data). Those data were collected from 1998 to 2004 at the Houston, Galveston and Brazoria area.', 'area': 'Climate and Environment', 'tasks': ['Classification'], 'characteristics': ['Multivariate', 'Sequential', 'Time-Series'], 'num_instances': 2536, 'num_features': 72, 'feature_types': ['Real'], 'demographics': [], 'target_col': ['Class'], 'index_col': ['Dataset', 'Date'], 'has_missing_values': 'yes', 'missing_values_symbol': 'NaN', 'year_of_dataset_creation': 2008, 'last_updated': 'Fri Mar 29 2024', 'dataset_doi': '10.24432/C5NG6W', 'creators': ['Kun Zhang', 'Wei Fan', 'XiaoJing Yuan'], 'intro_paper': None, 'additional_info': {'summary': 'For a list of attributes, please refer to those two .names files.  They use the following naming convention:\\r\\n\\r\\nAll the attribute start with T means the temperature measured at different time throughout the day; and those starts with WS indicate the wind speed at various time.\\r\\n\\r\\nWSR_PK:     continuous. peek wind speed -- resultant (meaning average of wind vector)\\r\\n\\r\\nWSR_AV:     continuous. average wind speed\\r\\n\\r\\nT_PK:     continuous. Peak T\\r\\nT_AV:     continuous. Average T\\r\\nT85:     continuous. T at 850 hpa level (or about 1500 m height)\\r\\nRH85:     continuous. Relative Humidity at 850 hpa\\r\\nU85:     continuous. (U wind - east-west direction wind at 850 hpa)\\r\\nV85:     continuous. V wind - N-S direction wind at 850\\r\\nHT85:     continuous. Geopotential height at 850 hpa, it is about the same as height at low altitude\\r\\nT70:     continuous. T at 700 hpa level (roughly 3100 m height)\\r\\n\\r\\nRH70:     continuous.\\r\\nU70:     continuous.\\r\\nV70:     continuous.\\r\\nHT70:     continuous.\\r\\n\\r\\nT50:     continuous. T at 500 hpa level (roughly at 5500 m height)\\r\\n\\r\\nRH50:     continuous.\\r\\nU50:     continuous.\\r\\nV50:     continuous.\\r\\nHT50:     continuous.\\r\\n\\r\\nKI:     continuous. K-Index http://www.weather.gov/glossary/index.php?letter=k\\r\\nTT:     continuous. T-Totals http://www.theweatherprediction.com/habyhints/302/\\r\\nSLP:     continuous. Sea level pressure\\r\\nSLP_:     continuous. SLP change from previous day\\r\\n\\r\\nPrecp:    continuous. -- precipitation', 'purpose': None, 'funded_by': None, 'instances_represent': None, 'recommended_data_splits': None, 'sensitive_data': None, 'preprocessing_description': None, 'variable_info': 'The following are specifications for several most important attributes that are highly valued by Texas Commission on Environmental Quality (TCEQ). More details can be found in the two relevant papers.\\r\\n \\r\\nO 3 - Local ozone peak prediction\\r\\nUpwind - Upwind ozone background level\\r\\nEmFactor - Precursor emissions related factor\\r\\nTmax - Maximum temperature in degrees F\\r\\nTb - Base temperature where net ozone production begins (50 F)\\r\\nSRd - Solar radiation total for the day\\r\\nWSa - Wind speed near sunrise (using 09-12 UTC forecast mode)\\r\\nWSp - Wind speed mid-day (using 15-21 UTC forecast mode) \\r\\n\\r\\nPlease refer to those two .names files.', 'citation': None}}\n",
      "       name     role         type demographic description units missing_values\n",
      "0   Dataset       ID  Categorical        None        None  None             no\n",
      "1      Date       ID         Date        None        None  None             no\n",
      "2      WSR0  Feature   Continuous        None        None  None            yes\n",
      "3      WSR1  Feature   Continuous        None        None  None            yes\n",
      "4      WSR2  Feature   Continuous        None        None  None            yes\n",
      "..      ...      ...          ...         ...         ...   ...            ...\n",
      "70       TT  Feature   Continuous        None        None  None            yes\n",
      "71      SLP  Feature      Integer        None        None  None            yes\n",
      "72     SLP_  Feature      Integer        None        None  None            yes\n",
      "73    Precp  Feature   Continuous        None        None  None             no\n",
      "74    Class   Target       Binary        None        None  None             no\n",
      "\n",
      "[75 rows x 7 columns]\n"
     ]
    }
   ],
   "source": [
    "# fetch dataset \n",
    "ozone_level_detection = fetch_ucirepo(id=172) \n",
    "  \n",
    "# data (as pandas dataframes) \n",
    "X = ozone_level_detection.data.features \n",
    "y = ozone_level_detection.data.targets \n",
    "  \n",
    "# metadata \n",
    "print(ozone_level_detection.metadata) \n",
    "  \n",
    "# variable information \n",
    "print(ozone_level_detection.variables) "
   ]
  },
  {
   "cell_type": "code",
   "execution_count": null,
   "id": "ee0c209f-a1ba-4444-8279-f3256fca9d74",
   "metadata": {},
   "outputs": [],
   "source": []
  }
 ],
 "metadata": {
  "kernelspec": {
   "display_name": "Estudos",
   "language": "python",
   "name": "estudos"
  },
  "language_info": {
   "codemirror_mode": {
    "name": "ipython",
    "version": 3
   },
   "file_extension": ".py",
   "mimetype": "text/x-python",
   "name": "python",
   "nbconvert_exporter": "python",
   "pygments_lexer": "ipython3",
   "version": "3.12.2"
  }
 },
 "nbformat": 4,
 "nbformat_minor": 5
}
